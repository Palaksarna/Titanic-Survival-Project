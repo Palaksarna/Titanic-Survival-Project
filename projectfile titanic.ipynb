{
 "cells": [
  {
   "cell_type": "code",
   "execution_count": 1,
   "id": "831b887b-b0f0-4e01-9380-ac9c325aa956",
   "metadata": {},
   "outputs": [],
   "source": [
    "import numpy as np\n",
    "import pandas as pd\n",
    "import matplotlib.pyplot as plt\n",
    "\n",
    "import seaborn as sns"
   ]
  },
  {
   "cell_type": "code",
   "execution_count": 2,
   "id": "8bcdf628-2663-4cd5-a718-283288ad9aad",
   "metadata": {},
   "outputs": [],
   "source": [
    "train_df = pd.read_csv('train.csv')"
   ]
  },
  {
   "cell_type": "code",
   "execution_count": 3,
   "id": "07bda3e5-61ac-458f-8202-2d9934145b79",
   "metadata": {},
   "outputs": [],
   "source": [
    "test_df = pd.read_csv('test.csv')"
   ]
  },
  {
   "cell_type": "code",
   "execution_count": 4,
   "id": "51d2cb47-7784-4917-941c-51a56a276d14",
   "metadata": {},
   "outputs": [
    {
     "data": {
      "text/html": [
       "<div>\n",
       "<style scoped>\n",
       "    .dataframe tbody tr th:only-of-type {\n",
       "        vertical-align: middle;\n",
       "    }\n",
       "\n",
       "    .dataframe tbody tr th {\n",
       "        vertical-align: top;\n",
       "    }\n",
       "\n",
       "    .dataframe thead th {\n",
       "        text-align: right;\n",
       "    }\n",
       "</style>\n",
       "<table border=\"1\" class=\"dataframe\">\n",
       "  <thead>\n",
       "    <tr style=\"text-align: right;\">\n",
       "      <th></th>\n",
       "      <th>PassengerId</th>\n",
       "      <th>Survived</th>\n",
       "      <th>Pclass</th>\n",
       "      <th>Name</th>\n",
       "      <th>Sex</th>\n",
       "      <th>Age</th>\n",
       "      <th>SibSp</th>\n",
       "      <th>Parch</th>\n",
       "      <th>Ticket</th>\n",
       "      <th>Fare</th>\n",
       "      <th>Cabin</th>\n",
       "      <th>Embarked</th>\n",
       "    </tr>\n",
       "  </thead>\n",
       "  <tbody>\n",
       "    <tr>\n",
       "      <th>0</th>\n",
       "      <td>1</td>\n",
       "      <td>0</td>\n",
       "      <td>3</td>\n",
       "      <td>Braund, Mr. Owen Harris</td>\n",
       "      <td>male</td>\n",
       "      <td>22.0</td>\n",
       "      <td>1</td>\n",
       "      <td>0</td>\n",
       "      <td>A/5 21171</td>\n",
       "      <td>7.2500</td>\n",
       "      <td>NaN</td>\n",
       "      <td>S</td>\n",
       "    </tr>\n",
       "    <tr>\n",
       "      <th>1</th>\n",
       "      <td>2</td>\n",
       "      <td>1</td>\n",
       "      <td>1</td>\n",
       "      <td>Cumings, Mrs. John Bradley (Florence Briggs Th...</td>\n",
       "      <td>female</td>\n",
       "      <td>38.0</td>\n",
       "      <td>1</td>\n",
       "      <td>0</td>\n",
       "      <td>PC 17599</td>\n",
       "      <td>71.2833</td>\n",
       "      <td>C85</td>\n",
       "      <td>C</td>\n",
       "    </tr>\n",
       "    <tr>\n",
       "      <th>2</th>\n",
       "      <td>3</td>\n",
       "      <td>1</td>\n",
       "      <td>3</td>\n",
       "      <td>Heikkinen, Miss. Laina</td>\n",
       "      <td>female</td>\n",
       "      <td>26.0</td>\n",
       "      <td>0</td>\n",
       "      <td>0</td>\n",
       "      <td>STON/O2. 3101282</td>\n",
       "      <td>7.9250</td>\n",
       "      <td>NaN</td>\n",
       "      <td>S</td>\n",
       "    </tr>\n",
       "    <tr>\n",
       "      <th>3</th>\n",
       "      <td>4</td>\n",
       "      <td>1</td>\n",
       "      <td>1</td>\n",
       "      <td>Futrelle, Mrs. Jacques Heath (Lily May Peel)</td>\n",
       "      <td>female</td>\n",
       "      <td>35.0</td>\n",
       "      <td>1</td>\n",
       "      <td>0</td>\n",
       "      <td>113803</td>\n",
       "      <td>53.1000</td>\n",
       "      <td>C123</td>\n",
       "      <td>S</td>\n",
       "    </tr>\n",
       "    <tr>\n",
       "      <th>4</th>\n",
       "      <td>5</td>\n",
       "      <td>0</td>\n",
       "      <td>3</td>\n",
       "      <td>Allen, Mr. William Henry</td>\n",
       "      <td>male</td>\n",
       "      <td>35.0</td>\n",
       "      <td>0</td>\n",
       "      <td>0</td>\n",
       "      <td>373450</td>\n",
       "      <td>8.0500</td>\n",
       "      <td>NaN</td>\n",
       "      <td>S</td>\n",
       "    </tr>\n",
       "    <tr>\n",
       "      <th>...</th>\n",
       "      <td>...</td>\n",
       "      <td>...</td>\n",
       "      <td>...</td>\n",
       "      <td>...</td>\n",
       "      <td>...</td>\n",
       "      <td>...</td>\n",
       "      <td>...</td>\n",
       "      <td>...</td>\n",
       "      <td>...</td>\n",
       "      <td>...</td>\n",
       "      <td>...</td>\n",
       "      <td>...</td>\n",
       "    </tr>\n",
       "    <tr>\n",
       "      <th>886</th>\n",
       "      <td>887</td>\n",
       "      <td>0</td>\n",
       "      <td>2</td>\n",
       "      <td>Montvila, Rev. Juozas</td>\n",
       "      <td>male</td>\n",
       "      <td>27.0</td>\n",
       "      <td>0</td>\n",
       "      <td>0</td>\n",
       "      <td>211536</td>\n",
       "      <td>13.0000</td>\n",
       "      <td>NaN</td>\n",
       "      <td>S</td>\n",
       "    </tr>\n",
       "    <tr>\n",
       "      <th>887</th>\n",
       "      <td>888</td>\n",
       "      <td>1</td>\n",
       "      <td>1</td>\n",
       "      <td>Graham, Miss. Margaret Edith</td>\n",
       "      <td>female</td>\n",
       "      <td>19.0</td>\n",
       "      <td>0</td>\n",
       "      <td>0</td>\n",
       "      <td>112053</td>\n",
       "      <td>30.0000</td>\n",
       "      <td>B42</td>\n",
       "      <td>S</td>\n",
       "    </tr>\n",
       "    <tr>\n",
       "      <th>888</th>\n",
       "      <td>889</td>\n",
       "      <td>0</td>\n",
       "      <td>3</td>\n",
       "      <td>Johnston, Miss. Catherine Helen \"Carrie\"</td>\n",
       "      <td>female</td>\n",
       "      <td>NaN</td>\n",
       "      <td>1</td>\n",
       "      <td>2</td>\n",
       "      <td>W./C. 6607</td>\n",
       "      <td>23.4500</td>\n",
       "      <td>NaN</td>\n",
       "      <td>S</td>\n",
       "    </tr>\n",
       "    <tr>\n",
       "      <th>889</th>\n",
       "      <td>890</td>\n",
       "      <td>1</td>\n",
       "      <td>1</td>\n",
       "      <td>Behr, Mr. Karl Howell</td>\n",
       "      <td>male</td>\n",
       "      <td>26.0</td>\n",
       "      <td>0</td>\n",
       "      <td>0</td>\n",
       "      <td>111369</td>\n",
       "      <td>30.0000</td>\n",
       "      <td>C148</td>\n",
       "      <td>C</td>\n",
       "    </tr>\n",
       "    <tr>\n",
       "      <th>890</th>\n",
       "      <td>891</td>\n",
       "      <td>0</td>\n",
       "      <td>3</td>\n",
       "      <td>Dooley, Mr. Patrick</td>\n",
       "      <td>male</td>\n",
       "      <td>32.0</td>\n",
       "      <td>0</td>\n",
       "      <td>0</td>\n",
       "      <td>370376</td>\n",
       "      <td>7.7500</td>\n",
       "      <td>NaN</td>\n",
       "      <td>Q</td>\n",
       "    </tr>\n",
       "  </tbody>\n",
       "</table>\n",
       "<p>891 rows × 12 columns</p>\n",
       "</div>"
      ],
      "text/plain": [
       "     PassengerId  Survived  Pclass  \\\n",
       "0              1         0       3   \n",
       "1              2         1       1   \n",
       "2              3         1       3   \n",
       "3              4         1       1   \n",
       "4              5         0       3   \n",
       "..           ...       ...     ...   \n",
       "886          887         0       2   \n",
       "887          888         1       1   \n",
       "888          889         0       3   \n",
       "889          890         1       1   \n",
       "890          891         0       3   \n",
       "\n",
       "                                                  Name     Sex   Age  SibSp  \\\n",
       "0                              Braund, Mr. Owen Harris    male  22.0      1   \n",
       "1    Cumings, Mrs. John Bradley (Florence Briggs Th...  female  38.0      1   \n",
       "2                               Heikkinen, Miss. Laina  female  26.0      0   \n",
       "3         Futrelle, Mrs. Jacques Heath (Lily May Peel)  female  35.0      1   \n",
       "4                             Allen, Mr. William Henry    male  35.0      0   \n",
       "..                                                 ...     ...   ...    ...   \n",
       "886                              Montvila, Rev. Juozas    male  27.0      0   \n",
       "887                       Graham, Miss. Margaret Edith  female  19.0      0   \n",
       "888           Johnston, Miss. Catherine Helen \"Carrie\"  female   NaN      1   \n",
       "889                              Behr, Mr. Karl Howell    male  26.0      0   \n",
       "890                                Dooley, Mr. Patrick    male  32.0      0   \n",
       "\n",
       "     Parch            Ticket     Fare Cabin Embarked  \n",
       "0        0         A/5 21171   7.2500   NaN        S  \n",
       "1        0          PC 17599  71.2833   C85        C  \n",
       "2        0  STON/O2. 3101282   7.9250   NaN        S  \n",
       "3        0            113803  53.1000  C123        S  \n",
       "4        0            373450   8.0500   NaN        S  \n",
       "..     ...               ...      ...   ...      ...  \n",
       "886      0            211536  13.0000   NaN        S  \n",
       "887      0            112053  30.0000   B42        S  \n",
       "888      2        W./C. 6607  23.4500   NaN        S  \n",
       "889      0            111369  30.0000  C148        C  \n",
       "890      0            370376   7.7500   NaN        Q  \n",
       "\n",
       "[891 rows x 12 columns]"
      ]
     },
     "execution_count": 4,
     "metadata": {},
     "output_type": "execute_result"
    }
   ],
   "source": [
    "train_df\n",
    "#pclass = passenger class\n",
    "#sibsp = sibling/spouse\n",
    "#parch = parent / children\n",
    "#embarked = the stops they boarded the train 3 stops the s= southampton, q = queenstown , c = cherbourg"
   ]
  },
  {
   "cell_type": "code",
   "execution_count": 5,
   "id": "e74dd593-59ad-44a0-9279-c8d73a7ca106",
   "metadata": {},
   "outputs": [
    {
     "data": {
      "text/plain": [
       "PassengerId      0\n",
       "Survived         0\n",
       "Pclass           0\n",
       "Name             0\n",
       "Sex              0\n",
       "Age            177\n",
       "SibSp            0\n",
       "Parch            0\n",
       "Ticket           0\n",
       "Fare             0\n",
       "Cabin          687\n",
       "Embarked         2\n",
       "dtype: int64"
      ]
     },
     "execution_count": 5,
     "metadata": {},
     "output_type": "execute_result"
    }
   ],
   "source": [
    "train_df.isnull().sum()"
   ]
  },
  {
   "cell_type": "code",
   "execution_count": 6,
   "id": "8fc721da-4e67-43f5-8095-085b17fca34c",
   "metadata": {},
   "outputs": [
    {
     "data": {
      "text/plain": [
       "<Axes: ylabel='Density'>"
      ]
     },
     "execution_count": 6,
     "metadata": {},
     "output_type": "execute_result"
    },
    {
     "data": {
      "image/png": "[encoded data removed]",
      "text/plain": [
       "<Figure size 640x480 with 1 Axes>"
      ]
     },
     "metadata": {},
     "output_type": "display_data"
    }
   ],
   "source": [
    "ax = train_df[\"Age\"].hist(bins =50,density = True,color = \"red\",alpha = 0.5)\n",
    "train_df[\"Age\"].plot(kind = \"density\",color =\"blue\")\n",
    "#aplha = transparency\n",
    "# .hist is a method of pandas panadas uses matplotlib at the end\n",
    "# the graph is made based on the number of people in ax and plotted by traindf wala 2nd continious graph"
   ]
  },
  {
   "cell_type": "code",
   "execution_count": 7,
   "id": "3e50c48b-6ccf-4657-adbb-262bf48ff621",
   "metadata": {},
   "outputs": [
    {
     "name": "stdout",
     "output_type": "stream",
     "text": [
      "Embarked\n",
      "S    644\n",
      "C    168\n",
      "Q     77\n",
      "Name: count, dtype: int64\n"
     ]
    },
    {
     "data": {
      "text/plain": [
       "<Axes: xlabel='Embarked', ylabel='count'>"
      ]
     },
     "execution_count": 7,
     "metadata": {},
     "output_type": "execute_result"
    },
    {
     "data": {
      "image/png": "[encoded data removed]",
      "text/plain": [
       "<Figure size 640x480 with 1 Axes>"
      ]
     },
     "metadata": {},
     "output_type": "display_data"
    }
   ],
   "source": [
    "print(train_df['Embarked'].value_counts())\n",
    "sns.countplot(x = 'Embarked',data = train_df)\n",
    "#number of people who boarded from each port"
   ]
  },
  {
   "cell_type": "code",
   "execution_count": 8,
   "id": "29dd54a3-e4d9-4fb1-ae0c-8c1ba7058001",
   "metadata": {},
   "outputs": [],
   "source": [
    "train_data = train_df.copy()"
   ]
  },
  {
   "cell_type": "markdown",
   "id": "5a32929b-e7f6-4a35-ab35-f153e4305e8f",
   "metadata": {},
   "source": [
    "# To fill missing values we have 3 options :-\n",
    "* 1. replace it with zeroes - it is a blunder\n",
    "  2. replace it with mean\n",
    "  3. replace with median\n",
    "\n",
    "* second and third choice depends on question"
   ]
  },
  {
   "cell_type": "markdown",
   "id": "8cf7c3d5-35bb-4e47-af44-4bf879caee81",
   "metadata": {},
   "source": [
    "# Age"
   ]
  },
  {
   "cell_type": "code",
   "execution_count": 9,
   "id": "f78dbe91-c016-4b4d-8f54-3d227c00d081",
   "metadata": {},
   "outputs": [],
   "source": [
    "train_data['Age'].fillna(train_df['Age'].median(),inplace = True)"
   ]
  },
  {
   "cell_type": "markdown",
   "id": "169d5563-f3a4-458b-8b08-bbe7da403b12",
   "metadata": {},
   "source": [
    "* inplace = true it makes changes in the actual data otherwise changes takes place in its copy"
   ]
  },
  {
   "cell_type": "markdown",
   "id": "dbec349d-96c6-4a07-88f3-f33a2045de09",
   "metadata": {},
   "source": [
    "# Cabin\n",
    "* We will drop cabin column coz 80% data is missing in the dataset so we can't recreate the data "
   ]
  },
  {
   "cell_type": "markdown",
   "id": "6dc46e33-14d3-4880-94da-37fdcf74497b",
   "metadata": {},
   "source": [
    "# Embarked\n",
    "* We will take mode"
   ]
  },
  {
   "cell_type": "code",
   "execution_count": 10,
   "id": "1812f1bd-fd6d-4f46-b85a-c87a878cb9f7",
   "metadata": {},
   "outputs": [],
   "source": [
    "train_data['Embarked'].fillna(train_df.Embarked.value_counts().idxmax(), inplace = True)\n",
    "train_data.drop(\"Cabin\",axis =1, inplace = True)"
   ]
  },
  {
   "cell_type": "code",
   "execution_count": 11,
   "id": "fad48551-e028-4436-bd18-a203d92bf6d1",
   "metadata": {},
   "outputs": [
    {
     "data": {
      "text/html": [
       "<div>\n",
       "<style scoped>\n",
       "    .dataframe tbody tr th:only-of-type {\n",
       "        vertical-align: middle;\n",
       "    }\n",
       "\n",
       "    .dataframe tbody tr th {\n",
       "        vertical-align: top;\n",
       "    }\n",
       "\n",
       "    .dataframe thead th {\n",
       "        text-align: right;\n",
       "    }\n",
       "</style>\n",
       "<table border=\"1\" class=\"dataframe\">\n",
       "  <thead>\n",
       "    <tr style=\"text-align: right;\">\n",
       "      <th></th>\n",
       "      <th>PassengerId</th>\n",
       "      <th>Survived</th>\n",
       "      <th>Pclass</th>\n",
       "      <th>Name</th>\n",
       "      <th>Sex</th>\n",
       "      <th>Age</th>\n",
       "      <th>SibSp</th>\n",
       "      <th>Parch</th>\n",
       "      <th>Ticket</th>\n",
       "      <th>Fare</th>\n",
       "      <th>Embarked</th>\n",
       "    </tr>\n",
       "  </thead>\n",
       "  <tbody>\n",
       "    <tr>\n",
       "      <th>0</th>\n",
       "      <td>1</td>\n",
       "      <td>0</td>\n",
       "      <td>3</td>\n",
       "      <td>Braund, Mr. Owen Harris</td>\n",
       "      <td>male</td>\n",
       "      <td>22.0</td>\n",
       "      <td>1</td>\n",
       "      <td>0</td>\n",
       "      <td>A/5 21171</td>\n",
       "      <td>7.2500</td>\n",
       "      <td>S</td>\n",
       "    </tr>\n",
       "    <tr>\n",
       "      <th>1</th>\n",
       "      <td>2</td>\n",
       "      <td>1</td>\n",
       "      <td>1</td>\n",
       "      <td>Cumings, Mrs. John Bradley (Florence Briggs Th...</td>\n",
       "      <td>female</td>\n",
       "      <td>38.0</td>\n",
       "      <td>1</td>\n",
       "      <td>0</td>\n",
       "      <td>PC 17599</td>\n",
       "      <td>71.2833</td>\n",
       "      <td>C</td>\n",
       "    </tr>\n",
       "    <tr>\n",
       "      <th>2</th>\n",
       "      <td>3</td>\n",
       "      <td>1</td>\n",
       "      <td>3</td>\n",
       "      <td>Heikkinen, Miss. Laina</td>\n",
       "      <td>female</td>\n",
       "      <td>26.0</td>\n",
       "      <td>0</td>\n",
       "      <td>0</td>\n",
       "      <td>STON/O2. 3101282</td>\n",
       "      <td>7.9250</td>\n",
       "      <td>S</td>\n",
       "    </tr>\n",
       "    <tr>\n",
       "      <th>3</th>\n",
       "      <td>4</td>\n",
       "      <td>1</td>\n",
       "      <td>1</td>\n",
       "      <td>Futrelle, Mrs. Jacques Heath (Lily May Peel)</td>\n",
       "      <td>female</td>\n",
       "      <td>35.0</td>\n",
       "      <td>1</td>\n",
       "      <td>0</td>\n",
       "      <td>113803</td>\n",
       "      <td>53.1000</td>\n",
       "      <td>S</td>\n",
       "    </tr>\n",
       "    <tr>\n",
       "      <th>4</th>\n",
       "      <td>5</td>\n",
       "      <td>0</td>\n",
       "      <td>3</td>\n",
       "      <td>Allen, Mr. William Henry</td>\n",
       "      <td>male</td>\n",
       "      <td>35.0</td>\n",
       "      <td>0</td>\n",
       "      <td>0</td>\n",
       "      <td>373450</td>\n",
       "      <td>8.0500</td>\n",
       "      <td>S</td>\n",
       "    </tr>\n",
       "    <tr>\n",
       "      <th>...</th>\n",
       "      <td>...</td>\n",
       "      <td>...</td>\n",
       "      <td>...</td>\n",
       "      <td>...</td>\n",
       "      <td>...</td>\n",
       "      <td>...</td>\n",
       "      <td>...</td>\n",
       "      <td>...</td>\n",
       "      <td>...</td>\n",
       "      <td>...</td>\n",
       "      <td>...</td>\n",
       "    </tr>\n",
       "    <tr>\n",
       "      <th>886</th>\n",
       "      <td>887</td>\n",
       "      <td>0</td>\n",
       "      <td>2</td>\n",
       "      <td>Montvila, Rev. Juozas</td>\n",
       "      <td>male</td>\n",
       "      <td>27.0</td>\n",
       "      <td>0</td>\n",
       "      <td>0</td>\n",
       "      <td>211536</td>\n",
       "      <td>13.0000</td>\n",
       "      <td>S</td>\n",
       "    </tr>\n",
       "    <tr>\n",
       "      <th>887</th>\n",
       "      <td>888</td>\n",
       "      <td>1</td>\n",
       "      <td>1</td>\n",
       "      <td>Graham, Miss. Margaret Edith</td>\n",
       "      <td>female</td>\n",
       "      <td>19.0</td>\n",
       "      <td>0</td>\n",
       "      <td>0</td>\n",
       "      <td>112053</td>\n",
       "      <td>30.0000</td>\n",
       "      <td>S</td>\n",
       "    </tr>\n",
       "    <tr>\n",
       "      <th>888</th>\n",
       "      <td>889</td>\n",
       "      <td>0</td>\n",
       "      <td>3</td>\n",
       "      <td>Johnston, Miss. Catherine Helen \"Carrie\"</td>\n",
       "      <td>female</td>\n",
       "      <td>28.0</td>\n",
       "      <td>1</td>\n",
       "      <td>2</td>\n",
       "      <td>W./C. 6607</td>\n",
       "      <td>23.4500</td>\n",
       "      <td>S</td>\n",
       "    </tr>\n",
       "    <tr>\n",
       "      <th>889</th>\n",
       "      <td>890</td>\n",
       "      <td>1</td>\n",
       "      <td>1</td>\n",
       "      <td>Behr, Mr. Karl Howell</td>\n",
       "      <td>male</td>\n",
       "      <td>26.0</td>\n",
       "      <td>0</td>\n",
       "      <td>0</td>\n",
       "      <td>111369</td>\n",
       "      <td>30.0000</td>\n",
       "      <td>C</td>\n",
       "    </tr>\n",
       "    <tr>\n",
       "      <th>890</th>\n",
       "      <td>891</td>\n",
       "      <td>0</td>\n",
       "      <td>3</td>\n",
       "      <td>Dooley, Mr. Patrick</td>\n",
       "      <td>male</td>\n",
       "      <td>32.0</td>\n",
       "      <td>0</td>\n",
       "      <td>0</td>\n",
       "      <td>370376</td>\n",
       "      <td>7.7500</td>\n",
       "      <td>Q</td>\n",
       "    </tr>\n",
       "  </tbody>\n",
       "</table>\n",
       "<p>891 rows × 11 columns</p>\n",
       "</div>"
      ],
      "text/plain": [
       "     PassengerId  Survived  Pclass  \\\n",
       "0              1         0       3   \n",
       "1              2         1       1   \n",
       "2              3         1       3   \n",
       "3              4         1       1   \n",
       "4              5         0       3   \n",
       "..           ...       ...     ...   \n",
       "886          887         0       2   \n",
       "887          888         1       1   \n",
       "888          889         0       3   \n",
       "889          890         1       1   \n",
       "890          891         0       3   \n",
       "\n",
       "                                                  Name     Sex   Age  SibSp  \\\n",
       "0                              Braund, Mr. Owen Harris    male  22.0      1   \n",
       "1    Cumings, Mrs. John Bradley (Florence Briggs Th...  female  38.0      1   \n",
       "2                               Heikkinen, Miss. Laina  female  26.0      0   \n",
       "3         Futrelle, Mrs. Jacques Heath (Lily May Peel)  female  35.0      1   \n",
       "4                             Allen, Mr. William Henry    male  35.0      0   \n",
       "..                                                 ...     ...   ...    ...   \n",
       "886                              Montvila, Rev. Juozas    male  27.0      0   \n",
       "887                       Graham, Miss. Margaret Edith  female  19.0      0   \n",
       "888           Johnston, Miss. Catherine Helen \"Carrie\"  female  28.0      1   \n",
       "889                              Behr, Mr. Karl Howell    male  26.0      0   \n",
       "890                                Dooley, Mr. Patrick    male  32.0      0   \n",
       "\n",
       "     Parch            Ticket     Fare Embarked  \n",
       "0        0         A/5 21171   7.2500        S  \n",
       "1        0          PC 17599  71.2833        C  \n",
       "2        0  STON/O2. 3101282   7.9250        S  \n",
       "3        0            113803  53.1000        S  \n",
       "4        0            373450   8.0500        S  \n",
       "..     ...               ...      ...      ...  \n",
       "886      0            211536  13.0000        S  \n",
       "887      0            112053  30.0000        S  \n",
       "888      2        W./C. 6607  23.4500        S  \n",
       "889      0            111369  30.0000        C  \n",
       "890      0            370376   7.7500        Q  \n",
       "\n",
       "[891 rows x 11 columns]"
      ]
     },
     "execution_count": 11,
     "metadata": {},
     "output_type": "execute_result"
    }
   ],
   "source": [
    "train_data"
   ]
  },
  {
   "cell_type": "code",
   "execution_count": 12,
   "id": "d4c36771-85b7-461a-b259-ba1daf245e2d",
   "metadata": {},
   "outputs": [
    {
     "data": {
      "text/plain": [
       "PassengerId    0\n",
       "Survived       0\n",
       "Pclass         0\n",
       "Name           0\n",
       "Sex            0\n",
       "Age            0\n",
       "SibSp          0\n",
       "Parch          0\n",
       "Ticket         0\n",
       "Fare           0\n",
       "Embarked       0\n",
       "dtype: int64"
      ]
     },
     "execution_count": 12,
     "metadata": {},
     "output_type": "execute_result"
    }
   ],
   "source": [
    "train_data.isnull().sum()"
   ]
  },
  {
   "cell_type": "code",
   "execution_count": 13,
   "id": "75024d3a-696c-44c2-a1b4-e0f4d167fc7e",
   "metadata": {},
   "outputs": [
    {
     "data": {
      "text/plain": [
       "<matplotlib.legend.Legend at 0x2053f57f110>"
      ]
     },
     "execution_count": 13,
     "metadata": {},
     "output_type": "execute_result"
    },
    {
     "data": {
      "image/png": "[encoded data removed]",
      "text/plain": [
       "<Figure size 1500x1000 with 1 Axes>"
      ]
     },
     "metadata": {},
     "output_type": "display_data"
    }
   ],
   "source": [
    "plt.figure(figsize = (15,10))\n",
    "ax = train_df[\"Age\"].hist(bins =15,density = True,color = \"red\",alpha = 0.5)\n",
    "train_df[\"Age\"].plot(kind = \"density\",color =\"blue\")\n",
    "ax = train_data[\"Age\"].hist(bins =15,density = True,color = \"yellow\",alpha = 0.5)\n",
    "train_data[\"Age\"].plot(kind = \"density\",color =\"green\")\n",
    "plt.xlim(-20,90) #range of x\n",
    "ax.legend(['Age before','Age after'])\n",
    "# this shows that our distribution may have gotten skewed a little but remained same overall\n",
    "# change in distribution before and after nan values removal"
   ]
  },
  {
   "cell_type": "markdown",
   "id": "16b5888d-1e4b-4487-86ce-dbcb6d45e827",
   "metadata": {},
   "source": [
    "# FEATURE SELECTION\n",
    "* pclass = better class better survival\n",
    "* dropping = name, passid, ticketno"
   ]
  },
  {
   "cell_type": "markdown",
   "id": "b10fe86a-fa80-459a-a88e-ad24faf8c1ef",
   "metadata": {},
   "source": [
    "# STRING TO INT\n",
    "* MALE AND FEMALE KO"
   ]
  },
  {
   "cell_type": "code",
   "execution_count": 14,
   "id": "f6eb65ef-1d3b-4273-9df6-7aeb99807d31",
   "metadata": {},
   "outputs": [],
   "source": [
    "train_data = pd.get_dummies(train_data,columns = ['Sex','Embarked'])"
   ]
  },
  {
   "cell_type": "code",
   "execution_count": 15,
   "id": "924a2bc3-dbfd-4345-aa21-2eb37670d554",
   "metadata": {},
   "outputs": [],
   "source": [
    "train_data.drop(\"PassengerId\",axis =1,inplace = True)\n",
    "train_data.drop(\"Name\",axis =1,inplace = True)\n",
    "train_data.drop(\"Ticket\",axis =1,inplace = True)"
   ]
  },
  {
   "cell_type": "code",
   "execution_count": 16,
   "id": "8e96df3e-8614-499c-bf47-c40b4c653c8b",
   "metadata": {},
   "outputs": [
    {
     "data": {
      "text/html": [
       "<div>\n",
       "<style scoped>\n",
       "    .dataframe tbody tr th:only-of-type {\n",
       "        vertical-align: middle;\n",
       "    }\n",
       "\n",
       "    .dataframe tbody tr th {\n",
       "        vertical-align: top;\n",
       "    }\n",
       "\n",
       "    .dataframe thead th {\n",
       "        text-align: right;\n",
       "    }\n",
       "</style>\n",
       "<table border=\"1\" class=\"dataframe\">\n",
       "  <thead>\n",
       "    <tr style=\"text-align: right;\">\n",
       "      <th></th>\n",
       "      <th>Survived</th>\n",
       "      <th>Pclass</th>\n",
       "      <th>Age</th>\n",
       "      <th>SibSp</th>\n",
       "      <th>Parch</th>\n",
       "      <th>Fare</th>\n",
       "      <th>Sex_female</th>\n",
       "      <th>Sex_male</th>\n",
       "      <th>Embarked_C</th>\n",
       "      <th>Embarked_Q</th>\n",
       "      <th>Embarked_S</th>\n",
       "    </tr>\n",
       "  </thead>\n",
       "  <tbody>\n",
       "    <tr>\n",
       "      <th>0</th>\n",
       "      <td>0</td>\n",
       "      <td>3</td>\n",
       "      <td>22.0</td>\n",
       "      <td>1</td>\n",
       "      <td>0</td>\n",
       "      <td>7.2500</td>\n",
       "      <td>False</td>\n",
       "      <td>True</td>\n",
       "      <td>False</td>\n",
       "      <td>False</td>\n",
       "      <td>True</td>\n",
       "    </tr>\n",
       "    <tr>\n",
       "      <th>1</th>\n",
       "      <td>1</td>\n",
       "      <td>1</td>\n",
       "      <td>38.0</td>\n",
       "      <td>1</td>\n",
       "      <td>0</td>\n",
       "      <td>71.2833</td>\n",
       "      <td>True</td>\n",
       "      <td>False</td>\n",
       "      <td>True</td>\n",
       "      <td>False</td>\n",
       "      <td>False</td>\n",
       "    </tr>\n",
       "    <tr>\n",
       "      <th>2</th>\n",
       "      <td>1</td>\n",
       "      <td>3</td>\n",
       "      <td>26.0</td>\n",
       "      <td>0</td>\n",
       "      <td>0</td>\n",
       "      <td>7.9250</td>\n",
       "      <td>True</td>\n",
       "      <td>False</td>\n",
       "      <td>False</td>\n",
       "      <td>False</td>\n",
       "      <td>True</td>\n",
       "    </tr>\n",
       "    <tr>\n",
       "      <th>3</th>\n",
       "      <td>1</td>\n",
       "      <td>1</td>\n",
       "      <td>35.0</td>\n",
       "      <td>1</td>\n",
       "      <td>0</td>\n",
       "      <td>53.1000</td>\n",
       "      <td>True</td>\n",
       "      <td>False</td>\n",
       "      <td>False</td>\n",
       "      <td>False</td>\n",
       "      <td>True</td>\n",
       "    </tr>\n",
       "    <tr>\n",
       "      <th>4</th>\n",
       "      <td>0</td>\n",
       "      <td>3</td>\n",
       "      <td>35.0</td>\n",
       "      <td>0</td>\n",
       "      <td>0</td>\n",
       "      <td>8.0500</td>\n",
       "      <td>False</td>\n",
       "      <td>True</td>\n",
       "      <td>False</td>\n",
       "      <td>False</td>\n",
       "      <td>True</td>\n",
       "    </tr>\n",
       "    <tr>\n",
       "      <th>...</th>\n",
       "      <td>...</td>\n",
       "      <td>...</td>\n",
       "      <td>...</td>\n",
       "      <td>...</td>\n",
       "      <td>...</td>\n",
       "      <td>...</td>\n",
       "      <td>...</td>\n",
       "      <td>...</td>\n",
       "      <td>...</td>\n",
       "      <td>...</td>\n",
       "      <td>...</td>\n",
       "    </tr>\n",
       "    <tr>\n",
       "      <th>886</th>\n",
       "      <td>0</td>\n",
       "      <td>2</td>\n",
       "      <td>27.0</td>\n",
       "      <td>0</td>\n",
       "      <td>0</td>\n",
       "      <td>13.0000</td>\n",
       "      <td>False</td>\n",
       "      <td>True</td>\n",
       "      <td>False</td>\n",
       "      <td>False</td>\n",
       "      <td>True</td>\n",
       "    </tr>\n",
       "    <tr>\n",
       "      <th>887</th>\n",
       "      <td>1</td>\n",
       "      <td>1</td>\n",
       "      <td>19.0</td>\n",
       "      <td>0</td>\n",
       "      <td>0</td>\n",
       "      <td>30.0000</td>\n",
       "      <td>True</td>\n",
       "      <td>False</td>\n",
       "      <td>False</td>\n",
       "      <td>False</td>\n",
       "      <td>True</td>\n",
       "    </tr>\n",
       "    <tr>\n",
       "      <th>888</th>\n",
       "      <td>0</td>\n",
       "      <td>3</td>\n",
       "      <td>28.0</td>\n",
       "      <td>1</td>\n",
       "      <td>2</td>\n",
       "      <td>23.4500</td>\n",
       "      <td>True</td>\n",
       "      <td>False</td>\n",
       "      <td>False</td>\n",
       "      <td>False</td>\n",
       "      <td>True</td>\n",
       "    </tr>\n",
       "    <tr>\n",
       "      <th>889</th>\n",
       "      <td>1</td>\n",
       "      <td>1</td>\n",
       "      <td>26.0</td>\n",
       "      <td>0</td>\n",
       "      <td>0</td>\n",
       "      <td>30.0000</td>\n",
       "      <td>False</td>\n",
       "      <td>True</td>\n",
       "      <td>True</td>\n",
       "      <td>False</td>\n",
       "      <td>False</td>\n",
       "    </tr>\n",
       "    <tr>\n",
       "      <th>890</th>\n",
       "      <td>0</td>\n",
       "      <td>3</td>\n",
       "      <td>32.0</td>\n",
       "      <td>0</td>\n",
       "      <td>0</td>\n",
       "      <td>7.7500</td>\n",
       "      <td>False</td>\n",
       "      <td>True</td>\n",
       "      <td>False</td>\n",
       "      <td>True</td>\n",
       "      <td>False</td>\n",
       "    </tr>\n",
       "  </tbody>\n",
       "</table>\n",
       "<p>891 rows × 11 columns</p>\n",
       "</div>"
      ],
      "text/plain": [
       "     Survived  Pclass   Age  SibSp  Parch     Fare  Sex_female  Sex_male  \\\n",
       "0           0       3  22.0      1      0   7.2500       False      True   \n",
       "1           1       1  38.0      1      0  71.2833        True     False   \n",
       "2           1       3  26.0      0      0   7.9250        True     False   \n",
       "3           1       1  35.0      1      0  53.1000        True     False   \n",
       "4           0       3  35.0      0      0   8.0500       False      True   \n",
       "..        ...     ...   ...    ...    ...      ...         ...       ...   \n",
       "886         0       2  27.0      0      0  13.0000       False      True   \n",
       "887         1       1  19.0      0      0  30.0000        True     False   \n",
       "888         0       3  28.0      1      2  23.4500        True     False   \n",
       "889         1       1  26.0      0      0  30.0000       False      True   \n",
       "890         0       3  32.0      0      0   7.7500       False      True   \n",
       "\n",
       "     Embarked_C  Embarked_Q  Embarked_S  \n",
       "0         False       False        True  \n",
       "1          True       False       False  \n",
       "2         False       False        True  \n",
       "3         False       False        True  \n",
       "4         False       False        True  \n",
       "..          ...         ...         ...  \n",
       "886       False       False        True  \n",
       "887       False       False        True  \n",
       "888       False       False        True  \n",
       "889        True       False       False  \n",
       "890       False        True       False  \n",
       "\n",
       "[891 rows x 11 columns]"
      ]
     },
     "execution_count": 16,
     "metadata": {},
     "output_type": "execute_result"
    }
   ],
   "source": [
    "train_data"
   ]
  },
  {
   "cell_type": "markdown",
   "id": "fc66de2c-e507-4ff2-a792-1d41d8a0d8d1",
   "metadata": {},
   "source": [
    "# To change true false to zero one"
   ]
  },
  {
   "cell_type": "code",
   "execution_count": 17,
   "id": "6f2b79e7-5f48-4c14-95af-4efb93f18b10",
   "metadata": {},
   "outputs": [],
   "source": [
    "train_data['Sex_female'] = np.where(train_data['Sex_female']== True ,1,0)\n",
    "train_data['Sex_male'] = np.where(train_data['Sex_male']== True ,1,0)\n",
    "train_data['Embarked_C'] = np.where(train_data['Embarked_C']== True ,1,0)\n",
    "train_data['Embarked_Q'] = np.where(train_data['Embarked_Q']== True ,1,0)\n",
    "train_data['Embarked_S'] = np.where(train_data['Embarked_S']== True ,1,0)"
   ]
  },
  {
   "cell_type": "code",
   "execution_count": 18,
   "id": "460b12b1-b07c-45e4-8d16-9ee9fe8a91d3",
   "metadata": {},
   "outputs": [
    {
     "data": {
      "text/html": [
       "<div>\n",
       "<style scoped>\n",
       "    .dataframe tbody tr th:only-of-type {\n",
       "        vertical-align: middle;\n",
       "    }\n",
       "\n",
       "    .dataframe tbody tr th {\n",
       "        vertical-align: top;\n",
       "    }\n",
       "\n",
       "    .dataframe thead th {\n",
       "        text-align: right;\n",
       "    }\n",
       "</style>\n",
       "<table border=\"1\" class=\"dataframe\">\n",
       "  <thead>\n",
       "    <tr style=\"text-align: right;\">\n",
       "      <th></th>\n",
       "      <th>Survived</th>\n",
       "      <th>Pclass</th>\n",
       "      <th>Age</th>\n",
       "      <th>SibSp</th>\n",
       "      <th>Parch</th>\n",
       "      <th>Fare</th>\n",
       "      <th>Sex_female</th>\n",
       "      <th>Sex_male</th>\n",
       "      <th>Embarked_C</th>\n",
       "      <th>Embarked_Q</th>\n",
       "      <th>Embarked_S</th>\n",
       "    </tr>\n",
       "  </thead>\n",
       "  <tbody>\n",
       "    <tr>\n",
       "      <th>0</th>\n",
       "      <td>0</td>\n",
       "      <td>3</td>\n",
       "      <td>22.0</td>\n",
       "      <td>1</td>\n",
       "      <td>0</td>\n",
       "      <td>7.2500</td>\n",
       "      <td>0</td>\n",
       "      <td>1</td>\n",
       "      <td>0</td>\n",
       "      <td>0</td>\n",
       "      <td>1</td>\n",
       "    </tr>\n",
       "    <tr>\n",
       "      <th>1</th>\n",
       "      <td>1</td>\n",
       "      <td>1</td>\n",
       "      <td>38.0</td>\n",
       "      <td>1</td>\n",
       "      <td>0</td>\n",
       "      <td>71.2833</td>\n",
       "      <td>1</td>\n",
       "      <td>0</td>\n",
       "      <td>1</td>\n",
       "      <td>0</td>\n",
       "      <td>0</td>\n",
       "    </tr>\n",
       "    <tr>\n",
       "      <th>2</th>\n",
       "      <td>1</td>\n",
       "      <td>3</td>\n",
       "      <td>26.0</td>\n",
       "      <td>0</td>\n",
       "      <td>0</td>\n",
       "      <td>7.9250</td>\n",
       "      <td>1</td>\n",
       "      <td>0</td>\n",
       "      <td>0</td>\n",
       "      <td>0</td>\n",
       "      <td>1</td>\n",
       "    </tr>\n",
       "    <tr>\n",
       "      <th>3</th>\n",
       "      <td>1</td>\n",
       "      <td>1</td>\n",
       "      <td>35.0</td>\n",
       "      <td>1</td>\n",
       "      <td>0</td>\n",
       "      <td>53.1000</td>\n",
       "      <td>1</td>\n",
       "      <td>0</td>\n",
       "      <td>0</td>\n",
       "      <td>0</td>\n",
       "      <td>1</td>\n",
       "    </tr>\n",
       "    <tr>\n",
       "      <th>4</th>\n",
       "      <td>0</td>\n",
       "      <td>3</td>\n",
       "      <td>35.0</td>\n",
       "      <td>0</td>\n",
       "      <td>0</td>\n",
       "      <td>8.0500</td>\n",
       "      <td>0</td>\n",
       "      <td>1</td>\n",
       "      <td>0</td>\n",
       "      <td>0</td>\n",
       "      <td>1</td>\n",
       "    </tr>\n",
       "    <tr>\n",
       "      <th>...</th>\n",
       "      <td>...</td>\n",
       "      <td>...</td>\n",
       "      <td>...</td>\n",
       "      <td>...</td>\n",
       "      <td>...</td>\n",
       "      <td>...</td>\n",
       "      <td>...</td>\n",
       "      <td>...</td>\n",
       "      <td>...</td>\n",
       "      <td>...</td>\n",
       "      <td>...</td>\n",
       "    </tr>\n",
       "    <tr>\n",
       "      <th>886</th>\n",
       "      <td>0</td>\n",
       "      <td>2</td>\n",
       "      <td>27.0</td>\n",
       "      <td>0</td>\n",
       "      <td>0</td>\n",
       "      <td>13.0000</td>\n",
       "      <td>0</td>\n",
       "      <td>1</td>\n",
       "      <td>0</td>\n",
       "      <td>0</td>\n",
       "      <td>1</td>\n",
       "    </tr>\n",
       "    <tr>\n",
       "      <th>887</th>\n",
       "      <td>1</td>\n",
       "      <td>1</td>\n",
       "      <td>19.0</td>\n",
       "      <td>0</td>\n",
       "      <td>0</td>\n",
       "      <td>30.0000</td>\n",
       "      <td>1</td>\n",
       "      <td>0</td>\n",
       "      <td>0</td>\n",
       "      <td>0</td>\n",
       "      <td>1</td>\n",
       "    </tr>\n",
       "    <tr>\n",
       "      <th>888</th>\n",
       "      <td>0</td>\n",
       "      <td>3</td>\n",
       "      <td>28.0</td>\n",
       "      <td>1</td>\n",
       "      <td>2</td>\n",
       "      <td>23.4500</td>\n",
       "      <td>1</td>\n",
       "      <td>0</td>\n",
       "      <td>0</td>\n",
       "      <td>0</td>\n",
       "      <td>1</td>\n",
       "    </tr>\n",
       "    <tr>\n",
       "      <th>889</th>\n",
       "      <td>1</td>\n",
       "      <td>1</td>\n",
       "      <td>26.0</td>\n",
       "      <td>0</td>\n",
       "      <td>0</td>\n",
       "      <td>30.0000</td>\n",
       "      <td>0</td>\n",
       "      <td>1</td>\n",
       "      <td>1</td>\n",
       "      <td>0</td>\n",
       "      <td>0</td>\n",
       "    </tr>\n",
       "    <tr>\n",
       "      <th>890</th>\n",
       "      <td>0</td>\n",
       "      <td>3</td>\n",
       "      <td>32.0</td>\n",
       "      <td>0</td>\n",
       "      <td>0</td>\n",
       "      <td>7.7500</td>\n",
       "      <td>0</td>\n",
       "      <td>1</td>\n",
       "      <td>0</td>\n",
       "      <td>1</td>\n",
       "      <td>0</td>\n",
       "    </tr>\n",
       "  </tbody>\n",
       "</table>\n",
       "<p>891 rows × 11 columns</p>\n",
       "</div>"
      ],
      "text/plain": [
       "     Survived  Pclass   Age  SibSp  Parch     Fare  Sex_female  Sex_male  \\\n",
       "0           0       3  22.0      1      0   7.2500           0         1   \n",
       "1           1       1  38.0      1      0  71.2833           1         0   \n",
       "2           1       3  26.0      0      0   7.9250           1         0   \n",
       "3           1       1  35.0      1      0  53.1000           1         0   \n",
       "4           0       3  35.0      0      0   8.0500           0         1   \n",
       "..        ...     ...   ...    ...    ...      ...         ...       ...   \n",
       "886         0       2  27.0      0      0  13.0000           0         1   \n",
       "887         1       1  19.0      0      0  30.0000           1         0   \n",
       "888         0       3  28.0      1      2  23.4500           1         0   \n",
       "889         1       1  26.0      0      0  30.0000           0         1   \n",
       "890         0       3  32.0      0      0   7.7500           0         1   \n",
       "\n",
       "     Embarked_C  Embarked_Q  Embarked_S  \n",
       "0             0           0           1  \n",
       "1             1           0           0  \n",
       "2             0           0           1  \n",
       "3             0           0           1  \n",
       "4             0           0           1  \n",
       "..          ...         ...         ...  \n",
       "886           0           0           1  \n",
       "887           0           0           1  \n",
       "888           0           0           1  \n",
       "889           1           0           0  \n",
       "890           0           1           0  \n",
       "\n",
       "[891 rows x 11 columns]"
      ]
     },
     "execution_count": 18,
     "metadata": {},
     "output_type": "execute_result"
    }
   ],
   "source": [
    "train_data"
   ]
  },
  {
   "cell_type": "markdown",
   "id": "014a9e9d-2aad-4fa7-a3a5-7e3593f77cc0",
   "metadata": {},
   "source": [
    "# AGE SIGNIFICANCE IN DATASET"
   ]
  },
  {
   "cell_type": "code",
   "execution_count": 19,
   "id": "0f8e55a1-f23a-4f82-893f-211577f3b362",
   "metadata": {},
   "outputs": [
    {
     "name": "stderr",
     "output_type": "stream",
     "text": [
      "C:\\Users\\PALAK\\AppData\\Local\\Temp\\ipykernel_24292\\266310589.py:1: FutureWarning: \n",
      "\n",
      "`shade` is now deprecated in favor of `fill`; setting `fill=True`.\n",
      "This will become an error in seaborn v0.14.0; please update your code.\n",
      "\n",
      "  ax = sns.kdeplot(train_data[\"Age\"][train_data.Survived ==1],color = 'green',shade = True)\n",
      "C:\\Users\\PALAK\\AppData\\Local\\Temp\\ipykernel_24292\\266310589.py:2: FutureWarning: \n",
      "\n",
      "`shade` is now deprecated in favor of `fill`; setting `fill=True`.\n",
      "This will become an error in seaborn v0.14.0; please update your code.\n",
      "\n",
      "  sns.kdeplot(train_data[\"Age\"][train_data.Survived ==0],color = 'red',shade = True)\n",
      "C:\\Users\\PALAK\\AppData\\Local\\Temp\\ipykernel_24292\\266310589.py:3: UserWarning: Legend does not support handles for str instances.\n",
      "A proxy artist may be used instead.\n",
      "See: https://matplotlib.org/stable/users/explain/axes/legend_guide.html#controlling-the-legend-entries\n",
      "  plt.legend(\"Survived\",\"Dead\")\n"
     ]
    },
    {
     "data": {
      "text/plain": [
       "(-20.0, 90.0)"
      ]
     },
     "execution_count": 19,
     "metadata": {},
     "output_type": "execute_result"
    },
    {
     "data": {
      "image/png": "[encoded data removed]",
      "text/plain": [
       "<Figure size 640x480 with 1 Axes>"
      ]
     },
     "metadata": {},
     "output_type": "display_data"
    }
   ],
   "source": [
    "ax = sns.kdeplot(train_data[\"Age\"][train_data.Survived ==1],color = 'green',shade = True)\n",
    "sns.kdeplot(train_data[\"Age\"][train_data.Survived ==0],color = 'red',shade = True)\n",
    "plt.legend(\"Survived\",\"Dead\")\n",
    "plt.xlim(-20,90)\n",
    "#kdeplot = continous data plot"
   ]
  },
  {
   "cell_type": "markdown",
   "id": "01cb68f3-2e12-4ede-ae11-967a724d8fcc",
   "metadata": {},
   "source": [
    "### Why this graph shows people of middle age (around 25) as maxi dead and survived both as everthing in nature follows Gaussian distribution"
   ]
  },
  {
   "cell_type": "markdown",
   "id": "2dd34f4b-52de-46b2-812e-b84dace56941",
   "metadata": {},
   "source": [
    "# FARE SIGNIFICANCE IN DATASET"
   ]
  },
  {
   "cell_type": "code",
   "execution_count": 20,
   "id": "09082968-6320-4a09-b6eb-0eeef66454ef",
   "metadata": {},
   "outputs": [
    {
     "name": "stderr",
     "output_type": "stream",
     "text": [
      "C:\\Users\\PALAK\\AppData\\Local\\Temp\\ipykernel_24292\\3664395696.py:1: FutureWarning: \n",
      "\n",
      "`shade` is now deprecated in favor of `fill`; setting `fill=True`.\n",
      "This will become an error in seaborn v0.14.0; please update your code.\n",
      "\n",
      "  ax = sns.kdeplot(train_data[\"Fare\"][train_data.Survived ==1],color = 'green',shade = True)\n",
      "C:\\Users\\PALAK\\AppData\\Local\\Temp\\ipykernel_24292\\3664395696.py:2: FutureWarning: \n",
      "\n",
      "`shade` is now deprecated in favor of `fill`; setting `fill=True`.\n",
      "This will become an error in seaborn v0.14.0; please update your code.\n",
      "\n",
      "  sns.kdeplot(train_data[\"Fare\"][train_data.Survived ==0],color = 'red',shade = True)\n",
      "C:\\Users\\PALAK\\AppData\\Local\\Temp\\ipykernel_24292\\3664395696.py:3: UserWarning: Legend does not support handles for str instances.\n",
      "A proxy artist may be used instead.\n",
      "See: https://matplotlib.org/stable/users/explain/axes/legend_guide.html#controlling-the-legend-entries\n",
      "  plt.legend(\"Survived\",\"Dead\")\n"
     ]
    },
    {
     "data": {
      "text/plain": [
       "(-20.0, 90.0)"
      ]
     },
     "execution_count": 20,
     "metadata": {},
     "output_type": "execute_result"
    },
    {
     "data": {
      "image/png": "[encoded data removed]",
      "text/plain": [
       "<Figure size 640x480 with 1 Axes>"
      ]
     },
     "metadata": {},
     "output_type": "display_data"
    }
   ],
   "source": [
    "ax = sns.kdeplot(train_data[\"Fare\"][train_data.Survived ==1],color = 'green',shade = True)\n",
    "sns.kdeplot(train_data[\"Fare\"][train_data.Survived ==0],color = 'red',shade = True)\n",
    "plt.legend(\"Survived\",\"Dead\")\n",
    "plt.xlim(-20,90)"
   ]
  },
  {
   "cell_type": "markdown",
   "id": "3e2a14fd-9f69-4f85-9085-a0bb8ae881b2",
   "metadata": {},
   "source": [
    "### This shows that number of people who paid more faire survived more (almost all survived), but there are more rooms in normal class as compared to first class so people who paid less survived less (total mai se)\n",
    "* like 100 log h normal fair wale toh 25 bache but 1st class wale 100 h toh 90 bach gye\n",
    "* the bar is high towards normal fair because number of people are more but in high fare the number of people are less but survival rate is very high"
   ]
  },
  {
   "cell_type": "markdown",
   "id": "07bb8afc-9acf-4e3c-87d3-231ec9139de2",
   "metadata": {},
   "source": [
    "# RELATION BTW PCLASS AND SURVIVAL"
   ]
  },
  {
   "cell_type": "code",
   "execution_count": 21,
   "id": "61f9d11d-6cf2-49a9-8e77-0d1ffa6f50ec",
   "metadata": {},
   "outputs": [
    {
     "data": {
      "text/plain": [
       "<Axes: xlabel='Pclass', ylabel='Survived'>"
      ]
     },
     "execution_count": 21,
     "metadata": {},
     "output_type": "execute_result"
    },
    {
     "data": {
      "image/png": "[encoded data removed]",
      "text/plain": [
       "<Figure size 640x480 with 1 Axes>"
      ]
     },
     "metadata": {},
     "output_type": "display_data"
    }
   ],
   "source": [
    "sns.barplot(x =\"Pclass\",y =\"Survived\",data = train_data)"
   ]
  },
  {
   "cell_type": "markdown",
   "id": "585e706b-53a7-41ad-8c84-bbea50e0d76f",
   "metadata": {},
   "source": [
    "### This shows that people of first class have the highest chance of surviving followed by 2 and 3"
   ]
  },
  {
   "cell_type": "markdown",
   "id": "f5ca1cff-7eac-4985-b39a-b402a8846549",
   "metadata": {},
   "source": [
    "# IMPACT OF EMBARKED :-"
   ]
  },
  {
   "cell_type": "code",
   "execution_count": 22,
   "id": "faba64fc-9afb-4044-bb0a-e0aeb093bdb4",
   "metadata": {},
   "outputs": [
    {
     "data": {
      "text/plain": [
       "<Axes: xlabel='Embarked', ylabel='Survived'>"
      ]
     },
     "execution_count": 22,
     "metadata": {},
     "output_type": "execute_result"
    },
    {
     "data": {
      "image/png": "[encoded data removed]",
      "text/plain": [
       "<Figure size 640x480 with 1 Axes>"
      ]
     },
     "metadata": {},
     "output_type": "display_data"
    }
   ],
   "source": [
    "sns.barplot(x =\"Embarked\",y =\"Survived\",data = train_df)"
   ]
  },
  {
   "cell_type": "markdown",
   "id": "a7a55340-ee35-4551-bd5a-3a360171158f",
   "metadata": {},
   "source": [
    "### This shows people boarding from cherbourg have more chances of survival"
   ]
  },
  {
   "cell_type": "markdown",
   "id": "91984520-4e65-4598-8134-b9bd1c469b88",
   "metadata": {},
   "source": [
    "# IMPACT OF SIBSP:-"
   ]
  },
  {
   "cell_type": "code",
   "execution_count": 23,
   "id": "e60441c1-776c-4a49-aeac-5265c35533db",
   "metadata": {},
   "outputs": [
    {
     "data": {
      "text/plain": [
       "<Axes: xlabel='SibSp', ylabel='Survived'>"
      ]
     },
     "execution_count": 23,
     "metadata": {},
     "output_type": "execute_result"
    },
    {
     "data": {
      "image/png": "[encoded data removed]",
      "text/plain": [
       "<Figure size 640x480 with 1 Axes>"
      ]
     },
     "metadata": {},
     "output_type": "display_data"
    }
   ],
   "source": [
    "sns.barplot(x =\"SibSp\",y =\"Survived\",data = train_df)"
   ]
  },
  {
   "cell_type": "markdown",
   "id": "06f50bc8-80ea-4e2c-baf1-8c6aef4189c9",
   "metadata": {},
   "source": [
    "### This shows that that people whi have 1 or 2 sbisp have higher chances of survival"
   ]
  },
  {
   "cell_type": "markdown",
   "id": "00c4a1e2-0990-4f7d-88ac-179c71aa40cc",
   "metadata": {},
   "source": [
    "# IMPACT OF PARCH:-"
   ]
  },
  {
   "cell_type": "code",
   "execution_count": 24,
   "id": "1494696c-ec67-4788-ac5f-2140f1994f32",
   "metadata": {},
   "outputs": [
    {
     "data": {
      "text/plain": [
       "<Axes: xlabel='Parch', ylabel='Survived'>"
      ]
     },
     "execution_count": 24,
     "metadata": {},
     "output_type": "execute_result"
    },
    {
     "data": {
      "image/png": "[encoded data removed]",
      "text/plain": [
       "<Figure size 640x480 with 1 Axes>"
      ]
     },
     "metadata": {},
     "output_type": "display_data"
    }
   ],
   "source": [
    "sns.barplot(x =\"Parch\",y =\"Survived\",data = train_df)"
   ]
  },
  {
   "cell_type": "markdown",
   "id": "efa7522e-5b83-4941-85ca-9f822014a2a4",
   "metadata": {},
   "source": [
    "### not that helpful"
   ]
  },
  {
   "cell_type": "markdown",
   "id": "cf12f481-c4c7-42f4-bdf9-cdda40a7539f",
   "metadata": {},
   "source": [
    "# IMPACT OF GENDER:-"
   ]
  },
  {
   "cell_type": "code",
   "execution_count": 25,
   "id": "660871dd-b128-4b66-ab58-50881076ab9f",
   "metadata": {},
   "outputs": [
    {
     "data": {
      "text/plain": [
       "<Axes: xlabel='Sex', ylabel='Survived'>"
      ]
     },
     "execution_count": 25,
     "metadata": {},
     "output_type": "execute_result"
    },
    {
     "data": {
      "image/png": "[encoded data removed]",
      "text/plain": [
       "<Figure size 640x480 with 1 Axes>"
      ]
     },
     "metadata": {},
     "output_type": "display_data"
    }
   ],
   "source": [
    "sns.barplot(x =\"Sex\",y =\"Survived\",data = train_df)"
   ]
  },
  {
   "cell_type": "markdown",
   "id": "030be76a-f0a2-4348-84e3-96c680572985",
   "metadata": {},
   "source": [
    "### This shows females have higher chances of survival than males"
   ]
  },
  {
   "cell_type": "code",
   "execution_count": 26,
   "id": "85ab9d09-b272-4bbd-ae5e-432c8f8b6ae4",
   "metadata": {},
   "outputs": [
    {
     "data": {
      "text/plain": [
       "<Axes: xlabel='Sex', ylabel='Fare'>"
      ]
     },
     "execution_count": 26,
     "metadata": {},
     "output_type": "execute_result"
    },
    {
     "data": {
      "image/png": "[encoded data removed]",
      "text/plain": [
       "<Figure size 640x480 with 1 Axes>"
      ]
     },
     "metadata": {},
     "output_type": "display_data"
    }
   ],
   "source": [
    "sns.barplot(x =\"Sex\",y =\"Fare\",data = train_df)"
   ]
  },
  {
   "cell_type": "markdown",
   "id": "6135c7fb-d50d-4cc5-aa8e-7d6b4b860680",
   "metadata": {},
   "source": [
    "### This shows female purchased tickets of high fare more"
   ]
  },
  {
   "cell_type": "markdown",
   "id": "fcf7e498-59e2-4b0c-8ccf-30432e892e1e",
   "metadata": {},
   "source": [
    "# Combining sibsp and parch into travel alone"
   ]
  },
  {
   "cell_type": "code",
   "execution_count": 27,
   "id": "96e04578-b2af-48b7-987d-d12713ffbee2",
   "metadata": {},
   "outputs": [],
   "source": [
    "train_data[\"Travel_alone\"]=np.where((train_data['SibSp']+train_data['Parch']) >0,0,1)"
   ]
  },
  {
   "cell_type": "code",
   "execution_count": 28,
   "id": "a0bdbeab-1271-47f0-b1ed-3f5af76702b1",
   "metadata": {},
   "outputs": [],
   "source": [
    "train_data.drop(\"SibSp\",axis =1,inplace = True)\n",
    "train_data.drop(\"Parch\",axis =1,inplace = True)"
   ]
  },
  {
   "cell_type": "code",
   "execution_count": 29,
   "id": "6c412132-453b-40a3-aef1-fedc48472b47",
   "metadata": {},
   "outputs": [
    {
     "data": {
      "text/html": [
       "<div>\n",
       "<style scoped>\n",
       "    .dataframe tbody tr th:only-of-type {\n",
       "        vertical-align: middle;\n",
       "    }\n",
       "\n",
       "    .dataframe tbody tr th {\n",
       "        vertical-align: top;\n",
       "    }\n",
       "\n",
       "    .dataframe thead th {\n",
       "        text-align: right;\n",
       "    }\n",
       "</style>\n",
       "<table border=\"1\" class=\"dataframe\">\n",
       "  <thead>\n",
       "    <tr style=\"text-align: right;\">\n",
       "      <th></th>\n",
       "      <th>Survived</th>\n",
       "      <th>Pclass</th>\n",
       "      <th>Age</th>\n",
       "      <th>Fare</th>\n",
       "      <th>Sex_female</th>\n",
       "      <th>Sex_male</th>\n",
       "      <th>Embarked_C</th>\n",
       "      <th>Embarked_Q</th>\n",
       "      <th>Embarked_S</th>\n",
       "      <th>Travel_alone</th>\n",
       "    </tr>\n",
       "  </thead>\n",
       "  <tbody>\n",
       "    <tr>\n",
       "      <th>0</th>\n",
       "      <td>0</td>\n",
       "      <td>3</td>\n",
       "      <td>22.0</td>\n",
       "      <td>7.2500</td>\n",
       "      <td>0</td>\n",
       "      <td>1</td>\n",
       "      <td>0</td>\n",
       "      <td>0</td>\n",
       "      <td>1</td>\n",
       "      <td>0</td>\n",
       "    </tr>\n",
       "    <tr>\n",
       "      <th>1</th>\n",
       "      <td>1</td>\n",
       "      <td>1</td>\n",
       "      <td>38.0</td>\n",
       "      <td>71.2833</td>\n",
       "      <td>1</td>\n",
       "      <td>0</td>\n",
       "      <td>1</td>\n",
       "      <td>0</td>\n",
       "      <td>0</td>\n",
       "      <td>0</td>\n",
       "    </tr>\n",
       "    <tr>\n",
       "      <th>2</th>\n",
       "      <td>1</td>\n",
       "      <td>3</td>\n",
       "      <td>26.0</td>\n",
       "      <td>7.9250</td>\n",
       "      <td>1</td>\n",
       "      <td>0</td>\n",
       "      <td>0</td>\n",
       "      <td>0</td>\n",
       "      <td>1</td>\n",
       "      <td>1</td>\n",
       "    </tr>\n",
       "    <tr>\n",
       "      <th>3</th>\n",
       "      <td>1</td>\n",
       "      <td>1</td>\n",
       "      <td>35.0</td>\n",
       "      <td>53.1000</td>\n",
       "      <td>1</td>\n",
       "      <td>0</td>\n",
       "      <td>0</td>\n",
       "      <td>0</td>\n",
       "      <td>1</td>\n",
       "      <td>0</td>\n",
       "    </tr>\n",
       "    <tr>\n",
       "      <th>4</th>\n",
       "      <td>0</td>\n",
       "      <td>3</td>\n",
       "      <td>35.0</td>\n",
       "      <td>8.0500</td>\n",
       "      <td>0</td>\n",
       "      <td>1</td>\n",
       "      <td>0</td>\n",
       "      <td>0</td>\n",
       "      <td>1</td>\n",
       "      <td>1</td>\n",
       "    </tr>\n",
       "    <tr>\n",
       "      <th>...</th>\n",
       "      <td>...</td>\n",
       "      <td>...</td>\n",
       "      <td>...</td>\n",
       "      <td>...</td>\n",
       "      <td>...</td>\n",
       "      <td>...</td>\n",
       "      <td>...</td>\n",
       "      <td>...</td>\n",
       "      <td>...</td>\n",
       "      <td>...</td>\n",
       "    </tr>\n",
       "    <tr>\n",
       "      <th>886</th>\n",
       "      <td>0</td>\n",
       "      <td>2</td>\n",
       "      <td>27.0</td>\n",
       "      <td>13.0000</td>\n",
       "      <td>0</td>\n",
       "      <td>1</td>\n",
       "      <td>0</td>\n",
       "      <td>0</td>\n",
       "      <td>1</td>\n",
       "      <td>1</td>\n",
       "    </tr>\n",
       "    <tr>\n",
       "      <th>887</th>\n",
       "      <td>1</td>\n",
       "      <td>1</td>\n",
       "      <td>19.0</td>\n",
       "      <td>30.0000</td>\n",
       "      <td>1</td>\n",
       "      <td>0</td>\n",
       "      <td>0</td>\n",
       "      <td>0</td>\n",
       "      <td>1</td>\n",
       "      <td>1</td>\n",
       "    </tr>\n",
       "    <tr>\n",
       "      <th>888</th>\n",
       "      <td>0</td>\n",
       "      <td>3</td>\n",
       "      <td>28.0</td>\n",
       "      <td>23.4500</td>\n",
       "      <td>1</td>\n",
       "      <td>0</td>\n",
       "      <td>0</td>\n",
       "      <td>0</td>\n",
       "      <td>1</td>\n",
       "      <td>0</td>\n",
       "    </tr>\n",
       "    <tr>\n",
       "      <th>889</th>\n",
       "      <td>1</td>\n",
       "      <td>1</td>\n",
       "      <td>26.0</td>\n",
       "      <td>30.0000</td>\n",
       "      <td>0</td>\n",
       "      <td>1</td>\n",
       "      <td>1</td>\n",
       "      <td>0</td>\n",
       "      <td>0</td>\n",
       "      <td>1</td>\n",
       "    </tr>\n",
       "    <tr>\n",
       "      <th>890</th>\n",
       "      <td>0</td>\n",
       "      <td>3</td>\n",
       "      <td>32.0</td>\n",
       "      <td>7.7500</td>\n",
       "      <td>0</td>\n",
       "      <td>1</td>\n",
       "      <td>0</td>\n",
       "      <td>1</td>\n",
       "      <td>0</td>\n",
       "      <td>1</td>\n",
       "    </tr>\n",
       "  </tbody>\n",
       "</table>\n",
       "<p>891 rows × 10 columns</p>\n",
       "</div>"
      ],
      "text/plain": [
       "     Survived  Pclass   Age     Fare  Sex_female  Sex_male  Embarked_C  \\\n",
       "0           0       3  22.0   7.2500           0         1           0   \n",
       "1           1       1  38.0  71.2833           1         0           1   \n",
       "2           1       3  26.0   7.9250           1         0           0   \n",
       "3           1       1  35.0  53.1000           1         0           0   \n",
       "4           0       3  35.0   8.0500           0         1           0   \n",
       "..        ...     ...   ...      ...         ...       ...         ...   \n",
       "886         0       2  27.0  13.0000           0         1           0   \n",
       "887         1       1  19.0  30.0000           1         0           0   \n",
       "888         0       3  28.0  23.4500           1         0           0   \n",
       "889         1       1  26.0  30.0000           0         1           1   \n",
       "890         0       3  32.0   7.7500           0         1           0   \n",
       "\n",
       "     Embarked_Q  Embarked_S  Travel_alone  \n",
       "0             0           1             0  \n",
       "1             0           0             0  \n",
       "2             0           1             1  \n",
       "3             0           1             0  \n",
       "4             0           1             1  \n",
       "..          ...         ...           ...  \n",
       "886           0           1             1  \n",
       "887           0           1             1  \n",
       "888           0           1             0  \n",
       "889           0           0             1  \n",
       "890           1           0             1  \n",
       "\n",
       "[891 rows x 10 columns]"
      ]
     },
     "execution_count": 29,
     "metadata": {},
     "output_type": "execute_result"
    }
   ],
   "source": [
    "train_data"
   ]
  },
  {
   "cell_type": "code",
   "execution_count": 30,
   "id": "f271a029-dc2f-4afd-8aaa-1f08b86f6fd9",
   "metadata": {},
   "outputs": [
    {
     "data": {
      "text/plain": [
       "<Axes: xlabel='Travel_alone', ylabel='Survived'>"
      ]
     },
     "execution_count": 30,
     "metadata": {},
     "output_type": "execute_result"
    },
    {
     "data": {
      "image/png": "[encoded data removed]",
      "text/plain": [
       "<Figure size 640x480 with 1 Axes>"
      ]
     },
     "metadata": {},
     "output_type": "display_data"
    }
   ],
   "source": [
    "sns.barplot(x =\"Travel_alone\",y =\"Survived\",data = train_data)"
   ]
  },
  {
   "cell_type": "markdown",
   "id": "63d325ce-a955-46eb-9047-ef83caea6a83",
   "metadata": {},
   "source": [
    "### This is better than parch ans sibsp and this shows people who travel alone have lower chances of survival"
   ]
  },
  {
   "cell_type": "markdown",
   "id": "b79c1cf4-b5be-4195-8d1d-011ec774b298",
   "metadata": {},
   "source": [
    "# Correlation Graph:-"
   ]
  },
  {
   "cell_type": "code",
   "execution_count": 31,
   "id": "80c95df1-e159-4594-b05c-901f880f0ea9",
   "metadata": {},
   "outputs": [
    {
     "name": "stdout",
     "output_type": "stream",
     "text": [
      "Requirement already satisfied: seaborn in c:\\users\\palak\\anaconda3\\lib\\site-packages (0.13.2)\n",
      "Requirement already satisfied: numpy!=1.24.0,>=1.20 in c:\\users\\palak\\anaconda3\\lib\\site-packages (from seaborn) (1.26.4)\n",
      "Requirement already satisfied: pandas>=1.2 in c:\\users\\palak\\anaconda3\\lib\\site-packages (from seaborn) (2.1.4)\n",
      "Requirement already satisfied: matplotlib!=3.6.1,>=3.4 in c:\\users\\palak\\anaconda3\\lib\\site-packages (from seaborn) (3.8.0)\n",
      "Requirement already satisfied: contourpy>=1.0.1 in c:\\users\\palak\\anaconda3\\lib\\site-packages (from matplotlib!=3.6.1,>=3.4->seaborn) (1.2.0)\n",
      "Requirement already satisfied: cycler>=0.10 in c:\\users\\palak\\anaconda3\\lib\\site-packages (from matplotlib!=3.6.1,>=3.4->seaborn) (0.11.0)\n",
      "Requirement already satisfied: fonttools>=4.22.0 in c:\\users\\palak\\anaconda3\\lib\\site-packages (from matplotlib!=3.6.1,>=3.4->seaborn) (4.25.0)\n",
      "Requirement already satisfied: kiwisolver>=1.0.1 in c:\\users\\palak\\anaconda3\\lib\\site-packages (from matplotlib!=3.6.1,>=3.4->seaborn) (1.4.4)\n",
      "Requirement already satisfied: packaging>=20.0 in c:\\users\\palak\\anaconda3\\lib\\site-packages (from matplotlib!=3.6.1,>=3.4->seaborn) (23.1)\n",
      "Requirement already satisfied: pillow>=6.2.0 in c:\\users\\palak\\anaconda3\\lib\\site-packages (from matplotlib!=3.6.1,>=3.4->seaborn) (10.2.0)\n",
      "Requirement already satisfied: pyparsing>=2.3.1 in c:\\users\\palak\\anaconda3\\lib\\site-packages (from matplotlib!=3.6.1,>=3.4->seaborn) (3.0.9)\n",
      "Requirement already satisfied: python-dateutil>=2.7 in c:\\users\\palak\\anaconda3\\lib\\site-packages (from matplotlib!=3.6.1,>=3.4->seaborn) (2.8.2)\n",
      "Requirement already satisfied: pytz>=2020.1 in c:\\users\\palak\\anaconda3\\lib\\site-packages (from pandas>=1.2->seaborn) (2023.3.post1)\n",
      "Requirement already satisfied: tzdata>=2022.1 in c:\\users\\palak\\anaconda3\\lib\\site-packages (from pandas>=1.2->seaborn) (2023.3)\n",
      "Requirement already satisfied: six>=1.5 in c:\\users\\palak\\anaconda3\\lib\\site-packages (from python-dateutil>=2.7->matplotlib!=3.6.1,>=3.4->seaborn) (1.16.0)\n",
      "Note: you may need to restart the kernel to use updated packages.\n"
     ]
    }
   ],
   "source": [
    "pip install seaborn --upgrade"
   ]
  },
  {
   "cell_type": "code",
   "execution_count": 32,
   "id": "7eed2321-d594-445d-b019-6e564fe353e3",
   "metadata": {},
   "outputs": [
    {
     "data": {
      "text/plain": [
       "<Axes: >"
      ]
     },
     "execution_count": 32,
     "metadata": {},
     "output_type": "execute_result"
    },
    {
     "data": {
      "image/png": "[encoded data removed]",
      "text/plain": [
       "<Figure size 640x480 with 2 Axes>"
      ]
     },
     "metadata": {},
     "output_type": "display_data"
    }
   ],
   "source": [
    "sns.heatmap(train_data.corr(), annot = True)"
   ]
  },
  {
   "cell_type": "code",
   "execution_count": 33,
   "id": "c79437e0-55cd-4adb-80d1-2e3d653f3993",
   "metadata": {},
   "outputs": [],
   "source": [
    "# covariance and correlation"
   ]
  },
  {
   "cell_type": "code",
   "execution_count": 34,
   "id": "0610a913-5655-4ea9-aa1c-db89eff70e9a",
   "metadata": {},
   "outputs": [],
   "source": [
    "cols_model = ['Pclass','Age','Fare',\"Sex_female\",'Sex_male','Embarked_C','Embarked_Q','Embarked_S','Travel_alone']\n",
    "train_X = train_data[cols_model]\n",
    "train_Y = train_data['Survived']"
   ]
  },
  {
   "cell_type": "markdown",
   "id": "d9399c9e-c2af-41e7-8e18-36626fd64cda",
   "metadata": {},
   "source": [
    "* This data is in pandas format which is dataframe so it does not allow slicing"
   ]
  },
  {
   "cell_type": "code",
   "execution_count": 35,
   "id": "7dce353d-e257-4f00-ba49-5b05e25a0098",
   "metadata": {},
   "outputs": [
    {
     "name": "stdout",
     "output_type": "stream",
     "text": [
      "<class 'pandas.core.frame.DataFrame'> <class 'pandas.core.series.Series'>\n",
      "<class 'numpy.ndarray'> <class 'numpy.ndarray'>\n"
     ]
    }
   ],
   "source": [
    "print(type(train_X),type(train_Y))\n",
    "#this is to convert pandas dataframe to numpy array\n",
    "train_X = train_X.values\n",
    "train_Y = train_Y.values\n",
    "print(type(train_X),type(train_Y))"
   ]
  },
  {
   "cell_type": "code",
   "execution_count": 36,
   "id": "65b27bac-2a32-4836-a236-bafc2d3f767f",
   "metadata": {},
   "outputs": [],
   "source": [
    "split = 0.9\n",
    "X_train = train_X[:int(split*train_X.shape[0]), :]\n",
    "Y_train = train_Y[:int(split*train_Y.shape[0])]\n",
    "X_test = train_X[int(split*train_X.shape[0]):, :]\n",
    "Y_test = train_Y[int(split*train_Y.shape[0]):]"
   ]
  },
  {
   "cell_type": "code",
   "execution_count": 37,
   "id": "7a8debf8-3b88-44eb-84c3-6e0a7d05e19f",
   "metadata": {},
   "outputs": [
    {
     "data": {
      "text/plain": [
       "array([[ 3.    , 22.    ,  7.25  , ...,  0.    ,  1.    ,  0.    ],\n",
       "       [ 1.    , 38.    , 71.2833, ...,  0.    ,  0.    ,  0.    ],\n",
       "       [ 3.    , 26.    ,  7.925 , ...,  0.    ,  1.    ,  1.    ],\n",
       "       ...,\n",
       "       [ 3.    , 30.    ,  7.2292, ...,  0.    ,  0.    ,  1.    ],\n",
       "       [ 3.    , 30.    , 24.15  , ...,  0.    ,  1.    ,  0.    ],\n",
       "       [ 2.    , 34.    , 13.    , ...,  0.    ,  1.    ,  1.    ]])"
      ]
     },
     "execution_count": 37,
     "metadata": {},
     "output_type": "execute_result"
    }
   ],
   "source": [
    "X_train"
   ]
  },
  {
   "cell_type": "code",
   "execution_count": 38,
   "id": "0d899169-84bb-4c53-81e2-2e84ae4837b1",
   "metadata": {},
   "outputs": [
    {
     "name": "stdout",
     "output_type": "stream",
     "text": [
      "(801, 9) (801,) (90, 9) (90,)\n"
     ]
    }
   ],
   "source": [
    "print(X_train.shape,Y_train.shape,X_test.shape,Y_test.shape)"
   ]
  },
  {
   "cell_type": "markdown",
   "id": "72de9a05-60f4-4604-8091-686874fe1b26",
   "metadata": {},
   "source": [
    "# Normalisation \n",
    "* we do column wise linear regression cause if ek col ka mean(u) and sigma is diff than other so we normalise using columns"
   ]
  },
  {
   "cell_type": "markdown",
   "id": "fdc218fd-6952-4d04-a84b-c3d6e2847d94",
   "metadata": {},
   "source": [
    "#### Here we will not normalise coz we normalise the values so that they don't become nan but these values are already small we can normalise age and fare but it is not needed\n",
    "* embarked m 0,0,1 wale values h but if we normalise\n",
    "* let u(c) = 0.5,u(q)=0.1,u(s)=0,4 and sigma = 1 for all\n",
    "* if we cal x(C) = 0-0.5/1 = 0.5,x(Q) = 0.1, x(S) = 0.4 this will not show any correct result so normalisation not needed\n",
    "\n",
    "## We generally believe that bernaulli distribution m normalisation nhi krte but we can same accuracy\n",
    "\n",
    "* we can normalise age but values are small"
   ]
  },
  {
   "cell_type": "code",
   "execution_count": 39,
   "id": "bf943283-ed6b-4614-9cf1-553806af148d",
   "metadata": {},
   "outputs": [],
   "source": [
    "ones = np.ones((X_train.shape[0],1))\n",
    "X_train = np.hstack((ones,X_train))\n",
    "ones = np.ones((X_test.shape[0],1))\n",
    "X_test = np.hstack((ones,X_test))"
   ]
  },
  {
   "cell_type": "code",
   "execution_count": 40,
   "id": "8f4e671d-c6ae-4e10-a901-ab4d0443a994",
   "metadata": {},
   "outputs": [
    {
     "name": "stdout",
     "output_type": "stream",
     "text": [
      "(801, 10) (801,) (90, 10) (90,)\n"
     ]
    }
   ],
   "source": [
    "print(X_train.shape,Y_train.shape,X_test.shape,Y_test.shape)"
   ]
  },
  {
   "cell_type": "code",
   "execution_count": 41,
   "id": "d57250ce-3397-45c8-941a-a91ec7fe5f9d",
   "metadata": {},
   "outputs": [],
   "source": [
    "def sigmoid(X):\n",
    "    return 1/(1+np.exp(-X))"
   ]
  },
  {
   "cell_type": "code",
   "execution_count": 42,
   "id": "5e7d4450-ea43-4ad5-ba67-49df19311f33",
   "metadata": {},
   "outputs": [],
   "source": [
    "def hypothesis(X,weight):\n",
    "    return sigmoid(np.dot(X,weight))"
   ]
  },
  {
   "cell_type": "code",
   "execution_count": 43,
   "id": "8f26b376-8ca3-4fc6-8cfa-b024a1b72160",
   "metadata": {},
   "outputs": [],
   "source": [
    "def loss(X,Y,weight):\n",
    "    pred = hypothesis(X,weight)\n",
    "    loss = np.mean(Y *np.log(pred)+(1-Y)*np.log(1-pred))\n",
    "    return -1*loss"
   ]
  },
  {
   "cell_type": "code",
   "execution_count": 44,
   "id": "23321ab8-a96a-4581-8ced-4a78c133c002",
   "metadata": {},
   "outputs": [],
   "source": [
    "def gradient(X,Y,weight):\n",
    "    pred = hypothesis(X,weight)\n",
    "    grad = np.dot(X.T,(Y-pred)) # x.t before so that we get 1,1 not m,m\n",
    "    return grad/X.shape[0]"
   ]
  },
  {
   "cell_type": "code",
   "execution_count": 45,
   "id": "fad746e8-0e55-42a3-ae6b-a51012ede184",
   "metadata": {},
   "outputs": [],
   "source": [
    "def gradient_des(X,Y):\n",
    "    weights = np.zeros((X.shape[1],)) \n",
    "    epochs = 100000 #no of jumps\n",
    "    lr_rate = 0.003 \n",
    "    # here we take 0.003 as loss number to avoid nan values\n",
    "    list_loss = []\n",
    "    for i in range(epochs):\n",
    "        grad = gradient(X,Y,weights)\n",
    "        list_loss.append(loss(X,Y,weights))\n",
    "        print(f'On:{i}',end = '\\r')\n",
    "        weights= weights+(lr_rate*grad)\n",
    "    return weights,list_loss"
   ]
  },
  {
   "cell_type": "code",
   "execution_count": 46,
   "id": "049ecdb0-09cc-4595-81b5-1779249ce46e",
   "metadata": {},
   "outputs": [
    {
     "name": "stdout",
     "output_type": "stream",
     "text": [
      "On:99999\r"
     ]
    }
   ],
   "source": [
    "weights,list_loss = gradient_des(X_train,Y_train)"
   ]
  },
  {
   "cell_type": "code",
   "execution_count": 47,
   "id": "ba358a5e-2d48-44cb-a53e-937f08787849",
   "metadata": {},
   "outputs": [
    {
     "data": {
      "text/plain": [
       "[0.6931471805599451,\n",
       " 0.6482165240738683,\n",
       " 0.6365160504362694,\n",
       " 0.6322504134892498,\n",
       " 0.6294194740352896,\n",
       " 0.6281237636700449,\n",
       " 0.6271042578027656,\n",
       " 0.6266084734328731,\n",
       " 0.6262674933922432,\n",
       " 0.6260527444269302]"
      ]
     },
     "execution_count": 47,
     "metadata": {},
     "output_type": "execute_result"
    }
   ],
   "source": [
    "list_loss[:10] "
   ]
  },
  {
   "cell_type": "code",
   "execution_count": 48,
   "id": "1a31082e-2d2d-4186-b39f-0c782d87b8cb",
   "metadata": {},
   "outputs": [
    {
     "data": {
      "text/plain": [
       "[<matplotlib.lines.Line2D at 0x205410b4f90>]"
      ]
     },
     "execution_count": 48,
     "metadata": {},
     "output_type": "execute_result"
    },
    {
     "data": {
      "image/png": "[encoded data removed]",
      "text/plain": [
       "<Figure size 640x480 with 1 Axes>"
      ]
     },
     "metadata": {},
     "output_type": "display_data"
    }
   ],
   "source": [
    "plt.plot(list_loss)"
   ]
  },
  {
   "cell_type": "code",
   "execution_count": 49,
   "id": "135d8e25-6f2d-4061-b50d-5d72b056e4e0",
   "metadata": {},
   "outputs": [
    {
     "data": {
      "text/plain": [
       "array([ 1.64674796e+00, -1.04845818e+00, -2.86858506e-02,  7.94682108e-04,\n",
       "        2.14187844e+00, -4.95130484e-01,  7.17785540e-01,  6.10701638e-01,\n",
       "        3.18260778e-01,  1.53384121e-01])"
      ]
     },
     "execution_count": 49,
     "metadata": {},
     "output_type": "execute_result"
    }
   ],
   "source": [
    "weights"
   ]
  },
  {
   "cell_type": "code",
   "execution_count": 50,
   "id": "d77d5d0a-fa82-417c-bbfb-61274833ce12",
   "metadata": {},
   "outputs": [
    {
     "name": "stdout",
     "output_type": "stream",
     "text": [
      "0.7579677484332348 1\n",
      "0.5501402960657976 1\n",
      "0.21733726293541258 1\n",
      "0.09186380770618424 1\n",
      "0.08277741724608342 0\n",
      "0.36727058875764446 0\n",
      "0.6467377305410951 0\n",
      "0.17050233578347251 0\n",
      "0.8960413690112959 1\n",
      "0.09434704478022532 0\n",
      "0.06775680815772324 0\n",
      "0.18704681370741225 0\n",
      "0.6930146711162395 0\n",
      "0.0838897390376005 0\n",
      "0.4431470295719828 0\n",
      "0.6133509961912418 0\n",
      "0.2521141981110608 0\n",
      "0.06005965750578257 0\n",
      "0.12562773505861616 0\n",
      "0.8376801450000262 1\n",
      "0.09197574385022286 1\n",
      "0.37396170732818024 0\n",
      "0.5490686391441004 1\n",
      "0.15429176363316963 0\n",
      "0.11636090678043201 0\n",
      "0.0927576205126222 0\n",
      "0.4435436224131058 1\n",
      "0.11642629076178264 1\n",
      "0.817106428026063 1\n",
      "0.7195511238070156 1\n",
      "0.3461632816243199 1\n",
      "0.12785640228918882 0\n",
      "0.1019589826002656 0\n",
      "0.11589803345221146 0\n",
      "0.9172298035046703 1\n",
      "0.1073949451606585 0\n",
      "0.08956818770210816 0\n",
      "0.0835422718959525 1\n",
      "0.5485285502272973 1\n",
      "0.11011849234524514 0\n",
      "0.2840859187490158 0\n",
      "0.9413317814525227 1\n",
      "0.10840541480866343 0\n",
      "0.11890006556963807 0\n",
      "0.06175025582925399 0\n",
      "0.0814034045391472 0\n",
      "0.1071376921358761 0\n",
      "0.1971793814398625 0\n",
      "0.9385181075857462 1\n",
      "0.14611706239518935 0\n",
      "0.025613550474380953 0\n",
      "0.7530564276817449 0\n",
      "0.932815562138362 1\n",
      "0.6831866103680189 0\n",
      "0.6112566585539402 1\n",
      "0.8697309893240639 1\n",
      "0.2958632182597298 1\n",
      "0.665495424915943 1\n",
      "0.12785640228918882 0\n",
      "0.055179442699510216 0\n",
      "0.2278832855491213 0\n",
      "0.8647713111356929 1\n",
      "0.5531926894184648 0\n",
      "0.2401634633397153 0\n",
      "0.7248962166747833 1\n",
      "0.8383484253689936 1\n",
      "0.4318446246533864 0\n",
      "0.08966219640122654 0\n",
      "0.1441313033172999 1\n",
      "0.09434760836960385 0\n",
      "0.8521995796586213 1\n",
      "0.4090593169357662 0\n",
      "0.054003244515082476 0\n",
      "0.8355335806633433 1\n",
      "0.7483582456731667 1\n",
      "0.11026815948987216 0\n",
      "0.11295875973548995 0\n",
      "0.08955819559276369 0\n",
      "0.8718739742582572 1\n",
      "0.7880959521720551 1\n",
      "0.0785313686454866 0\n",
      "0.6206164296762241 0\n",
      "0.2195117975793982 0\n",
      "0.0967686252417545 0\n",
      "0.5395050943609762 0\n",
      "0.22481199882534564 0\n",
      "0.9364710210986273 1\n",
      "0.5441209714999659 0\n",
      "0.5627517059839728 1\n",
      "0.1051319787249724 0\n"
     ]
    }
   ],
   "source": [
    "pred = []\n",
    "\n",
    "for i in range(X_test.shape[0]):\n",
    "    y_hat = hypothesis(X_test[i],weights)\n",
    "#     pred.append(y_hat)\n",
    "    print(y_hat,Y_test[i])\n",
    "    if y_hat >=0.5:\n",
    "        pred.append(1)\n",
    "    else:\n",
    "        pred.append(0)\n",
    "     "
   ]
  },
  {
   "cell_type": "code",
   "execution_count": 51,
   "id": "3b3ea34a-ca57-4f65-a8e5-b268c2f5ecb6",
   "metadata": {},
   "outputs": [
    {
     "name": "stdout",
     "output_type": "stream",
     "text": [
      "0.8\n"
     ]
    }
   ],
   "source": [
    "# accuracy\n",
    "corr =0\n",
    "\n",
    "for i in range(Y_test.shape[0]):\n",
    "    if pred[i] == Y_test[i]:\n",
    "        corr +=1\n",
    "print(corr/Y_test.shape[0])"
   ]
  },
  {
   "cell_type": "code",
   "execution_count": 52,
   "id": "a79f48a3-3f66-4631-a5a9-e66ae6f67a9a",
   "metadata": {},
   "outputs": [],
   "source": [
    "#loss kam learning kam make notes from this from one note"
   ]
  },
  {
   "cell_type": "code",
   "execution_count": 77,
   "id": "4b2e5ad2",
   "metadata": {},
   "outputs": [],
   "source": [
    "def prior_probab(y_train,label):\n",
    "    return np.sum(y_train==label)/y_train.shape[0]"
   ]
  },
  {
   "cell_type": "code",
   "execution_count": 78,
   "id": "3b7dcc10",
   "metadata": {},
   "outputs": [],
   "source": [
    "def conditional_prob(x_train,y_train,feat_col,value,label):\n",
    "    x_train = x_train[y_train == label]\n",
    "    num = np.sum(x_train[:,feat_col] == value)\n",
    "    deno = np.sum(y_train==label)\n",
    "    return num/deno"
   ]
  },
  {
   "cell_type": "code",
   "execution_count": 79,
   "id": "16c53888",
   "metadata": {},
   "outputs": [],
   "source": [
    "def predict(x_train, y_train , x_test):\n",
    "    classes = np.unique(y_train)\n",
    "    n_feat = x_train.shape[1]\n",
    "    post_probab =[]\n",
    "    \n",
    "    for label in classes:\n",
    "        likelihood_prob = 1\n",
    "        \n",
    "        for col in range(n_feat):\n",
    "            likelihood_prob = conditional_prob(x_train, y_train,col,x_test[col], label)\n",
    "        \n",
    "        prior = prior_probab(y_train,label)\n",
    "        \n",
    "        post_probab.append(likelihood_prob*prior)\n",
    "        \n",
    "    return np.argmax(post_probab)"
   ]
  },
  {
   "cell_type": "code",
   "execution_count": 84,
   "id": "4e0e5efd",
   "metadata": {},
   "outputs": [
    {
     "name": "stdout",
     "output_type": "stream",
     "text": [
      "0 0\n"
     ]
    }
   ],
   "source": [
    "print(predict(X_train,Y_train, X_test[0]), Y_test[14])"
   ]
  },
  {
   "cell_type": "code",
   "execution_count": 85,
   "id": "882e576d",
   "metadata": {},
   "outputs": [
    {
     "name": "stdout",
     "output_type": "stream",
     "text": [
      "0.6222222222222222\n"
     ]
    }
   ],
   "source": [
    "corr = 0\n",
    "\n",
    "for i in range(X_test.shape[0]):\n",
    "    pred = predict(X_train,Y_train, X_test[i])\n",
    "    if pred ==Y_test[i]:\n",
    "        corr+=1\n",
    "    else:\n",
    "        pass\n",
    "print(corr/X_test.shape[0])"
   ]
  },
  {
   "cell_type": "code",
   "execution_count": null,
   "id": "200c5597",
   "metadata": {},
   "outputs": [],
   "source": []
  }
 ],
 "metadata": {
  "kernelspec": {
   "display_name": "Python 3 (ipykernel)",
   "language": "python",
   "name": "python3"
  },
  "language_info": {
   "codemirror_mode": {
    "name": "ipython",
    "version": 3
   },
   "file_extension": ".py",
   "mimetype": "text/x-python",
   "name": "python",
   "nbconvert_exporter": "python",
   "pygments_lexer": "ipython3",
   "version": "3.11.7"
  }
 },
 "nbformat": 4,
 "nbformat_minor": 5
}
